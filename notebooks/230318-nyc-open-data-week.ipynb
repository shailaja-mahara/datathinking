{
  "cells": [
    {
      "cell_type": "code",
      "execution_count": 2,
      "metadata": {
        "colab": {
          "base_uri": "https://localhost:8080/"
        },
        "id": "rwSmgcd0rpVF",
        "outputId": "c7024464-4f2a-49e6-fb19-bddaeaa94eff"
      },
      "outputs": [
        {
          "name": "stdout",
          "output_type": "stream",
          "text": [
            "zsh:1: no matches found: https://data.cityofnewyork.us/api/views/erm2-nwe9/rows.csv?accessType=DOWNLOAD\n"
          ]
        }
      ],
      "source": [
        "!wget https://data.cityofnewyork.us/api/views/erm2-nwe9/rows.csv?accessType=DOWNLOAD"
      ]
    },
    {
      "cell_type": "code",
      "execution_count": null,
      "metadata": {
        "id": "H38wN7bE-NZh"
      },
      "outputs": [],
      "source": [
        "!mv rows.csv?accessType=DOWNLOAD rows.csv"
      ]
    },
    {
      "cell_type": "code",
      "execution_count": null,
      "metadata": {
        "colab": {
          "base_uri": "https://localhost:8080/"
        },
        "id": "-cU5JxafATz1",
        "outputId": "9cbd0d78-396d-4750-f431-7ae3ca25db0c"
      },
      "outputs": [
        {
          "name": "stdout",
          "output_type": "stream",
          "text": [
            "Unique Key,Created Date,Closed Date,Agency,Agency Name,Complaint Type,Descriptor,Location Type,Incident Zip,Incident Address,Street Name,Cross Street 1,Cross Street 2,Intersection Street 1,Intersection Street 2,Address Type,City,Landmark,Facility Type,Status,Due Date,Resolution Description,Resolution Action Updated Date,Community Board,BBL,Borough,X Coordinate (State Plane),Y Coordinate (State Plane),Open Data Channel Type,Park Facility Name,Park Borough,Vehicle Type,Taxi Company Borough,Taxi Pick Up Location,Bridge Highway Name,Bridge Highway Direction,Road Ramp,Bridge Highway Segment,Latitude,Longitude,Location\n",
            "55093779,08/13/2022 09:19:11 PM,08/13/2022 10:56:42 PM,NYPD,New York City Police Department,Noise - Residential,Loud Music/Party,Residential Building/House,11230,323 WEBSTER AVENUE,WEBSTER AVENUE,OCEAN PARKWAY,EAST    8 STREET,OCEAN PARKWAY,EAST    8 STREET,ADDRESS,BROOKLYN,WEBSTER AVENUE,,Closed,,The Police Department responded to the complaint and took action to fix the condition.,08/13/2022 10:56:48 PM,14 BROOKLYN,3054170039,BROOKLYN,992646,170026,ONLINE,Unspecified,BROOKLYN,,,,,,,,40.633354678566896,-73.96975046755765,\"(40.633354678566896, -73.96975046755765)\"\n",
            "55093780,08/13/2022 10:11:07 PM,08/13/2022 11:06:50 PM,NYPD,New York City Police Department,Noise - Residential,Loud Music/Party,Residential Building/House,10468,2435 CRESTON AVENUE,CRESTON AVENUE,EAST  184 STREET,EAST  188 STREET,EAST  184 STREET,EAST  188 STREET,ADDRESS,BRONX,CRESTON AVENUE,,Closed,,The Police Department reviewed your complaint and provided additional information below.,08/13/2022 11:06:56 PM,05 BRONX,2031730041,BRONX,1012162,252984,ONLINE,Unspecified,BRONX,,,,,,,,40.86101325188722,-73.89909297968985,\"(40.86101325188722, -73.89909297968985)\"\n",
            "55093781,08/13/2022 09:49:32 PM,08/13/2022 10:12:32 PM,NYPD,New York City Police Department,Noise - Residential,Loud Music/Party,Residential Building/House,11357,19-06 166 STREET,166 STREET,19 AVENUE,20 AVENUE,19 AVENUE,20 AVENUE,ADDRESS,WHITESTONE,166 STREET,,Closed,,The Police Department responded to the complaint and determined that police action was not necessary.,08/13/2022 10:12:37 PM,07 QUEENS,,QUEENS,1040342,223715,ONLINE,Unspecified,QUEENS,,,,,,,,40.78054425555984,-73.79746201697986,\"(40.78054425555984, -73.79746201697986)\"\n",
            "55093782,08/13/2022 01:45:02 AM,08/13/2022 02:12:13 AM,NYPD,New York City Police Department,Noise - Residential,Loud Music/Party,Residential Building/House,10029,1536 LEXINGTON AVENUE,LEXINGTON AVENUE,EAST   98 STREET,EAST   99 STREET,EAST   98 STREET,EAST   99 STREET,ADDRESS,NEW YORK,LEXINGTON AVENUE,,Closed,,The Police Department responded to the complaint and with the information available observed no evidence of the violation at that time.,08/13/2022 02:12:16 AM,11 MANHATTAN,1016260001,MANHATTAN,998129,226124,ONLINE,Unspecified,MANHATTAN,,,,,,,,40.78732340806025,-73.94988040123232,\"(40.78732340806025, -73.94988040123232)\"\n",
            "55093783,08/13/2022 01:45:14 AM,08/13/2022 02:04:12 AM,NYPD,New York City Police Department,Noise - Residential,Loud Music/Party,Residential Building/House,10465,821 THROGS NECK EXPRESSWAY SR,THROGS NECK EXPRESSWAY SR,THROGS NECK EXPRESSWAY SB ET,LAFAYETTE AVENUE,THROGS NECK EXPRESSWAY SB ET,LAFAYETTE AVENUE,ADDRESS,BRONX,THROGS NECK EXPRESSWAY SR,,Closed,,The Police Department responded to the complaint and determined that police action was not necessary.,08/13/2022 02:04:16 AM,10 BRONX,2054300057,BRONX,1033963,241805,ONLINE,Unspecified,BRONX,,,,,,,,40.830234398023016,-73.82036140092109,\"(40.830234398023016, -73.82036140092109)\"\n",
            "55093784,08/13/2022 10:46:43 AM,08/13/2022 11:11:59 AM,NYPD,New York City Police Department,Noise - Residential,Loud Talking,Residential Building/House,10457,4183 3 AVENUE,3 AVENUE,EAST  176 STREET,EAST TREMONT AVENUE,EAST  176 STREET,EAST TREMONT AVENUE,ADDRESS,BRONX,3 AVENUE,,Closed,,The Police Department responded to the complaint and took action to fix the condition.,08/13/2022 11:12:02 AM,06 BRONX,2029247501,BRONX,1012876,247505,ONLINE,Unspecified,BRONX,,,,,,,,40.84597275132692,-73.89653513616209,\"(40.84597275132692, -73.89653513616209)\"\n",
            "55093785,08/13/2022 01:35:56 AM,08/13/2022 01:41:31 AM,NYPD,New York City Police Department,Noise - Residential,Loud Talking,Residential Building/House,10031,620 WEST  141 STREET,WEST  141 STREET,BROADWAY,RIVERSIDE DRIVE,BROADWAY,RIVERSIDE DRIVE,ADDRESS,NEW YORK,WEST  141 STREET,,Closed,,The Police Department responded to the complaint and took action to fix the condition.,08/13/2022 01:41:35 AM,09 MANHATTAN,1020880043,MANHATTAN,997264,239545,MOBILE,Unspecified,MANHATTAN,,,,,,,,40.82416166479311,-73.95297805704422,\"(40.82416166479311, -73.95297805704422)\"\n",
            "55093786,08/13/2022 11:41:27 PM,08/14/2022 12:37:32 AM,NYPD,New York City Police Department,Noise - Residential,Loud Talking,Residential Building/House,11217,5 SOUTH OXFORD STREET,SOUTH OXFORD STREET,DEKALB AVENUE,LAFAYETTE AVENUE,DEKALB AVENUE,LAFAYETTE AVENUE,ADDRESS,BROOKLYN,SOUTH OXFORD STREET,,Closed,,The Police Department responded to the complaint and determined that police action was not necessary.,08/14/2022 12:37:38 AM,02 BROOKLYN,3021010033,BROOKLYN,991457,190379,ONLINE,Unspecified,BROOKLYN,,,,,,,,40.68922021491379,-73.9740125019977,\"(40.68922021491379, -73.9740125019977)\"\n",
            "55093787,08/13/2022 11:33:16 PM,08/14/2022 12:32:16 AM,NYPD,New York City Police Department,Noise - Residential,Loud Talking,Residential Building/House,11102,3-04 27 AVENUE,27 AVENUE,3 STREET,4 STREET,3 STREET,4 STREET,ADDRESS,ASTORIA,27 AVENUE,,Closed,,The Police Department responded to the complaint and took action to fix the condition.,08/14/2022 12:32:20 AM,01 QUEENS,4004900101,QUEENS,1002470,221625,ONLINE,Unspecified,QUEENS,,,,,,,,40.77496696541085,-73.93421646508578,\"(40.77496696541085, -73.93421646508578)\"\n"
          ]
        }
      ],
      "source": [
        "!head rows.csv"
      ]
    },
    {
      "cell_type": "code",
      "execution_count": null,
      "metadata": {
        "colab": {
          "base_uri": "https://localhost:8080/"
        },
        "id": "aiOyj7BgDV37",
        "outputId": "940dbc40-6500-4b2a-848f-a285925b1eb4"
      },
      "outputs": [
        {
          "name": "stdout",
          "output_type": "stream",
          "text": [
            "Looking in indexes: https://pypi.org/simple, https://us-python.pkg.dev/colab-wheels/public/simple/\n",
            "Requirement already satisfied: polars in /usr/local/lib/python3.9/dist-packages (0.16.13)\n",
            "Requirement already satisfied: typing_extensions>=4.0.1 in /usr/local/lib/python3.9/dist-packages (from polars) (4.5.0)\n"
          ]
        }
      ],
      "source": [
        "!pip install polars"
      ]
    },
    {
      "cell_type": "code",
      "execution_count": 7,
      "metadata": {
        "colab": {
          "base_uri": "https://localhost:8080/",
          "height": 561
        },
        "id": "9KDHlovOCo_i",
        "outputId": "7f5173e9-e9c6-4a2a-9434-d30b94aa68b2"
      },
      "outputs": [
        {
          "name": "stdout",
          "output_type": "stream",
          "text": [
            "shape: (5, 41)\n",
            "┌────────────┬────────────┬───────────┬────────┬───┬────────────┬──────────┬───────────┬──────────┐\n",
            "│ Unique Key ┆ Created    ┆ Closed    ┆ Agency ┆ … ┆ Bridge     ┆ Latitude ┆ Longitude ┆ Location │\n",
            "│ ---        ┆ Date       ┆ Date      ┆ ---    ┆   ┆ Highway    ┆ ---      ┆ ---       ┆ ---      │\n",
            "│ i64        ┆ ---        ┆ ---       ┆ str    ┆   ┆ Segment    ┆ f64      ┆ f64       ┆ str      │\n",
            "│            ┆ str        ┆ str       ┆        ┆   ┆ ---        ┆          ┆           ┆          │\n",
            "│            ┆            ┆           ┆        ┆   ┆ str        ┆          ┆           ┆          │\n",
            "╞════════════╪════════════╪═══════════╪════════╪═══╪════════════╪══════════╪═══════════╪══════════╡\n",
            "│ 34247134   ┆ 09/04/2016 ┆ 09/07/201 ┆ DPR    ┆ … ┆ null       ┆ null     ┆ null      ┆ null     │\n",
            "│            ┆ 02:35:29   ┆ 6         ┆        ┆   ┆            ┆          ┆           ┆          │\n",
            "│            ┆ PM         ┆ 03:50:31  ┆        ┆   ┆            ┆          ┆           ┆          │\n",
            "│            ┆            ┆ PM        ┆        ┆   ┆            ┆          ┆           ┆          │\n",
            "│ 34250114   ┆ 09/05/2016 ┆ 09/07/201 ┆ DOF    ┆ … ┆ null       ┆ null     ┆ null      ┆ null     │\n",
            "│            ┆ 03:47:42   ┆ 6         ┆        ┆   ┆            ┆          ┆           ┆          │\n",
            "│            ┆ PM         ┆ 03:47:11  ┆        ┆   ┆            ┆          ┆           ┆          │\n",
            "│            ┆            ┆ PM        ┆        ┆   ┆            ┆          ┆           ┆          │\n",
            "│ 34249970   ┆ 09/05/2016 ┆ 09/12/201 ┆ DPR    ┆ … ┆ null       ┆ null     ┆ null      ┆ null     │\n",
            "│            ┆ 03:56:00   ┆ 6         ┆        ┆   ┆            ┆          ┆           ┆          │\n",
            "│            ┆ PM         ┆ 10:06:25  ┆        ┆   ┆            ┆          ┆           ┆          │\n",
            "│            ┆            ┆ AM        ┆        ┆   ┆            ┆          ┆           ┆          │\n",
            "│ 27050693   ┆ 01/04/2014 ┆ 01/20/201 ┆ DOT    ┆ … ┆ null       ┆ null     ┆ null      ┆ null     │\n",
            "│            ┆ 02:10:00   ┆ 4         ┆        ┆   ┆            ┆          ┆           ┆          │\n",
            "│            ┆ PM         ┆ 09:50:00  ┆        ┆   ┆            ┆          ┆           ┆          │\n",
            "│            ┆            ┆ AM        ┆        ┆   ┆            ┆          ┆           ┆          │\n",
            "│ 34262636   ┆ 09/07/2016 ┆ 09/15/201 ┆ DOF    ┆ … ┆ null       ┆ null     ┆ null      ┆ null     │\n",
            "│            ┆ 09:49:51   ┆ 6         ┆        ┆   ┆            ┆          ┆           ┆          │\n",
            "│            ┆ AM         ┆ 07:00:28  ┆        ┆   ┆            ┆          ┆           ┆          │\n",
            "│            ┆            ┆ PM        ┆        ┆   ┆            ┆          ┆           ┆          │\n",
            "└────────────┴────────────┴───────────┴────────┴───┴────────────┴──────────┴───────────┴──────────┘\n"
          ]
        }
      ],
      "source": [
        "import polars as pl\n",
        "\n",
        "# Load the CSV file into a dataframe\n",
        "df = pl.read_csv(\n",
        "    \"/Users/me/Downloads/311_Service_Requests_from_2010_to_Present.csv\",\n",
        "    infer_schema_length=10000,\n",
        ")\n",
        "\n",
        "# Print the first few rows of the dataframe\n",
        "print(df.head())\n"
      ]
    },
    {
      "cell_type": "code",
      "execution_count": 2,
      "metadata": {},
      "outputs": [
        {
          "data": {
            "text/plain": [
              "┌────────────┬─────────────────────┬───┬────────────────────┬────────────────────┬──────────────────────┐\n",
              "│ Unique Key │    Created Date     │ … │      Latitude      │     Longitude      │       Location       │\n",
              "│   int64    │      timestamp      │   │       double       │       double       │       varchar        │\n",
              "├────────────┼─────────────────────┼───┼────────────────────┼────────────────────┼──────────────────────┤\n",
              "│   34247134 │ 2016-09-04 14:35:29 │ … │               NULL │               NULL │ NULL                 │\n",
              "│   34250114 │ 2016-09-05 15:47:42 │ … │               NULL │               NULL │ NULL                 │\n",
              "│   34249970 │ 2016-09-05 15:56:00 │ … │               NULL │               NULL │ NULL                 │\n",
              "│   27050693 │ 2014-01-04 14:10:00 │ … │               NULL │               NULL │ NULL                 │\n",
              "│   34262636 │ 2016-09-07 09:49:51 │ … │               NULL │               NULL │ NULL                 │\n",
              "│   41686038 │ 2019-02-12 14:57:34 │ … │               NULL │               NULL │ NULL                 │\n",
              "│   34253047 │ 2016-09-06 10:48:38 │ … │               NULL │               NULL │ NULL                 │\n",
              "│   34262378 │ 2016-09-07 14:03:33 │ … │               NULL │               NULL │ NULL                 │\n",
              "│   34262389 │ 2016-09-07 20:26:28 │ … │               NULL │               NULL │ NULL                 │\n",
              "│   27050121 │ 2014-01-03 12:52:00 │ … │               NULL │               NULL │ NULL                 │\n",
              "│       ·    │          ·          │ · │                 ·  │                 ·  │  ·                   │\n",
              "│       ·    │          ·          │ · │                 ·  │                 ·  │  ·                   │\n",
              "│       ·    │          ·          │ · │                 ·  │                 ·  │  ·                   │\n",
              "│   46135070 │ 2020-05-05 16:01:00 │ … │               NULL │               NULL │ NULL                 │\n",
              "│   16260769 │ 2010-03-19 15:55:10 │ … │   40.7574938783866 │ -73.93909941622594 │ (40.7574938783866,…  │\n",
              "│   46128457 │ 2020-05-04 10:08:00 │ … │               NULL │               NULL │ NULL                 │\n",
              "│   16305303 │ 2010-03-23 08:48:59 │ … │ 40.709813429943466 │  -73.8785312030281 │ (40.70981342994346…  │\n",
              "│   46130445 │ 2020-05-04 08:55:00 │ … │               NULL │               NULL │ NULL                 │\n",
              "│   46127198 │ 2020-05-04 11:12:00 │ … │               NULL │               NULL │ NULL                 │\n",
              "│   46156620 │ 2020-05-08 14:20:00 │ … │               NULL │               NULL │ NULL                 │\n",
              "│   46145141 │ 2020-05-06 08:28:00 │ … │               NULL │               NULL │ NULL                 │\n",
              "│   46145949 │ 2020-05-06 15:33:00 │ … │               NULL │               NULL │ NULL                 │\n",
              "│   46149406 │ 2020-05-07 12:00:00 │ … │               NULL │               NULL │ NULL                 │\n",
              "├────────────┴─────────────────────┴───┴────────────────────┴────────────────────┴──────────────────────┤\n",
              "│ ? rows (>9999 rows, 20 shown)                                                    41 columns (5 shown) │\n",
              "└───────────────────────────────────────────────────────────────────────────────────────────────────────┘"
            ]
          },
          "execution_count": 2,
          "metadata": {},
          "output_type": "execute_result"
        }
      ],
      "source": [
        "import duckdb\n",
        "\n",
        "duckdb.sql(\n",
        "    \"SELECT * FROM read_csv_auto('/Users/me/Downloads/311_Service_Requests_from_2010_to_Present.csv')\"\n",
        ")\n"
      ]
    },
    {
      "cell_type": "code",
      "execution_count": 3,
      "metadata": {},
      "outputs": [],
      "source": [
        "# Import jupysql Jupyter extension to create SQL cells\n",
        "%load_ext sql\n",
        "\n",
        "%config SqlMagic.autopandas = True\n",
        "%config SqlMagic.feedback = False\n",
        "%config SqlMagic.displaycon = False"
      ]
    },
    {
      "cell_type": "code",
      "execution_count": 4,
      "metadata": {},
      "outputs": [],
      "source": [
        "%sql duckdb:////tmp/dbt.duckdb\n",
        "# %sql duckdb:///path/to/file.db"
      ]
    },
    {
      "cell_type": "code",
      "execution_count": null,
      "metadata": {},
      "outputs": [],
      "source": []
    },
    {
      "cell_type": "code",
      "execution_count": 5,
      "metadata": {},
      "outputs": [
        {
          "ename": "CatalogException",
          "evalue": "Catalog Error: Table with name new_york_city_311_calls does not exist!\nDid you mean \"temp.information_schema.tables\"?\nLINE 1: SELECT * FROM new_york_city_311_calls LIMIT 10\n                      ^",
          "output_type": "error",
          "traceback": [
            "\u001b[0;31m---------------------------------------------------------------------------\u001b[0m",
            "\u001b[0;31mCatalogException\u001b[0m                          Traceback (most recent call last)",
            "Cell \u001b[0;32mIn[5], line 5\u001b[0m\n\u001b[1;32m      1\u001b[0m \u001b[39mimport\u001b[39;00m \u001b[39mduckdb\u001b[39;00m\n\u001b[1;32m      3\u001b[0m con \u001b[39m=\u001b[39m duckdb\u001b[39m.\u001b[39mconnect(\u001b[39m'\u001b[39m\u001b[39m/tmp/dbt.duckdb\u001b[39m\u001b[39m'\u001b[39m)\n\u001b[0;32m----> 5\u001b[0m con\u001b[39m.\u001b[39;49mexecute(\u001b[39m\"\u001b[39;49m\u001b[39mSELECT * FROM new_york_city_311_calls LIMIT 10\u001b[39;49m\u001b[39m\"\u001b[39;49m)\u001b[39m.\u001b[39mfetchall()\n",
            "\u001b[0;31mCatalogException\u001b[0m: Catalog Error: Table with name new_york_city_311_calls does not exist!\nDid you mean \"temp.information_schema.tables\"?\nLINE 1: SELECT * FROM new_york_city_311_calls LIMIT 10\n                      ^"
          ]
        }
      ],
      "source": [
        "import duckdb\n",
        "\n",
        "con = duckdb.connect(\"/tmp/dbt.duckdb\")\n",
        "\n",
        "con.execute(\"SELECT * FROM new_york_city_311_calls LIMIT 10\").fetchall()\n"
      ]
    },
    {
      "cell_type": "code",
      "execution_count": 22,
      "metadata": {},
      "outputs": [
        {
          "ename": "AttributeError",
          "evalue": "'NoneType' object has no attribute 'show'",
          "output_type": "error",
          "traceback": [
            "\u001b[0;31m---------------------------------------------------------------------------\u001b[0m",
            "\u001b[0;31mAttributeError\u001b[0m                            Traceback (most recent call last)",
            "Cell \u001b[0;32mIn[22], line 1\u001b[0m\n\u001b[0;32m----> 1\u001b[0m duckdb\u001b[39m.\u001b[39;49msql(\u001b[39m\"\u001b[39;49m\u001b[39mSHOW TABLES\u001b[39;49m\u001b[39m\"\u001b[39;49m)\u001b[39m.\u001b[39;49mshow()\n",
            "\u001b[0;31mAttributeError\u001b[0m: 'NoneType' object has no attribute 'show'"
          ]
        }
      ],
      "source": [
        "duckdb.sql(\"SHOW TABLES\")\n"
      ]
    },
    {
      "cell_type": "code",
      "execution_count": null,
      "metadata": {},
      "outputs": [],
      "source": [
        "SELECT * FROM read_csv_auto('input.csv');"
      ]
    },
    {
      "cell_type": "code",
      "execution_count": 2,
      "metadata": {
        "id": "Hb_0VS7DDzFt"
      },
      "outputs": [
        {
          "ename": "FileNotFoundError",
          "evalue": "No such file or directory: rows.csv",
          "output_type": "error",
          "traceback": [
            "\u001b[0;31m---------------------------------------------------------------------------\u001b[0m",
            "\u001b[0;31mFileNotFoundError\u001b[0m                         Traceback (most recent call last)",
            "Cell \u001b[0;32mIn[2], line 4\u001b[0m\n\u001b[1;32m      1\u001b[0m \u001b[39mimport\u001b[39;00m \u001b[39mpolars\u001b[39;00m \u001b[39mas\u001b[39;00m \u001b[39mpl\u001b[39;00m\n\u001b[1;32m      3\u001b[0m \u001b[39m# Load the CSV file into a dataframe\u001b[39;00m\n\u001b[0;32m----> 4\u001b[0m df \u001b[39m=\u001b[39m pl\u001b[39m.\u001b[39;49mread_csv(\u001b[39m'\u001b[39;49m\u001b[39mrows.csv\u001b[39;49m\u001b[39m'\u001b[39;49m, null_values\u001b[39m=\u001b[39;49m[\u001b[39m'\u001b[39;49m\u001b[39mN/A\u001b[39;49m\u001b[39m'\u001b[39;49m, \u001b[39m'\u001b[39;49m\u001b[39mNA\u001b[39;49m\u001b[39m'\u001b[39;49m, \u001b[39m'\u001b[39;49m\u001b[39mUNKNOWN\u001b[39;49m\u001b[39m'\u001b[39;49m, \u001b[39m'\u001b[39;49m\u001b[39m90054-0807\u001b[39;49m\u001b[39m'\u001b[39;49m], ignore_errors\u001b[39m=\u001b[39;49m\u001b[39mTrue\u001b[39;49;00m)\n\u001b[1;32m      6\u001b[0m \u001b[39m# Print the first few rows of the dataframe\u001b[39;00m\n\u001b[1;32m      7\u001b[0m \u001b[39mprint\u001b[39m(df\u001b[39m.\u001b[39mhead())\n",
            "File \u001b[0;32m/opt/homebrew/anaconda3/envs/datathinking.org/lib/python3.11/site-packages/polars/utils/decorators.py:126\u001b[0m, in \u001b[0;36mdeprecate_nonkeyword_arguments.<locals>.decorate.<locals>.wrapper\u001b[0;34m(*args, **kwargs)\u001b[0m\n\u001b[1;32m    124\u001b[0m \u001b[39mif\u001b[39;00m \u001b[39mlen\u001b[39m(args) \u001b[39m>\u001b[39m num_allowed_args:\n\u001b[1;32m    125\u001b[0m     warnings\u001b[39m.\u001b[39mwarn(msg, \u001b[39mDeprecationWarning\u001b[39;00m, stacklevel\u001b[39m=\u001b[39m\u001b[39m2\u001b[39m)\n\u001b[0;32m--> 126\u001b[0m \u001b[39mreturn\u001b[39;00m function(\u001b[39m*\u001b[39;49margs, \u001b[39m*\u001b[39;49m\u001b[39m*\u001b[39;49mkwargs)\n",
            "File \u001b[0;32m/opt/homebrew/anaconda3/envs/datathinking.org/lib/python3.11/site-packages/polars/utils/decorators.py:35\u001b[0m, in \u001b[0;36mdeprecated_alias.<locals>.deco.<locals>.wrapper\u001b[0;34m(*args, **kwargs)\u001b[0m\n\u001b[1;32m     32\u001b[0m \u001b[39m@functools\u001b[39m\u001b[39m.\u001b[39mwraps(function)\n\u001b[1;32m     33\u001b[0m \u001b[39mdef\u001b[39;00m \u001b[39mwrapper\u001b[39m(\u001b[39m*\u001b[39margs: P\u001b[39m.\u001b[39margs, \u001b[39m*\u001b[39m\u001b[39m*\u001b[39mkwargs: P\u001b[39m.\u001b[39mkwargs) \u001b[39m-\u001b[39m\u001b[39m>\u001b[39m T:\n\u001b[1;32m     34\u001b[0m     _rename_kwargs(function\u001b[39m.\u001b[39m\u001b[39m__name__\u001b[39m, kwargs, aliases)\n\u001b[0;32m---> 35\u001b[0m     \u001b[39mreturn\u001b[39;00m function(\u001b[39m*\u001b[39;49margs, \u001b[39m*\u001b[39;49m\u001b[39m*\u001b[39;49mkwargs)\n",
            "File \u001b[0;32m/opt/homebrew/anaconda3/envs/datathinking.org/lib/python3.11/site-packages/polars/io/csv/functions.py:360\u001b[0m, in \u001b[0;36mread_csv\u001b[0;34m(source, has_header, columns, new_columns, separator, comment_char, quote_char, skip_rows, dtypes, null_values, missing_utf8_is_empty_string, ignore_errors, try_parse_dates, n_threads, infer_schema_length, batch_size, n_rows, encoding, low_memory, rechunk, use_pyarrow, storage_options, skip_rows_after_header, row_count_name, row_count_offset, sample_size, eol_char)\u001b[0m\n\u001b[1;32m    352\u001b[0m         dtypes \u001b[39m=\u001b[39m {\n\u001b[1;32m    353\u001b[0m             new_to_current\u001b[39m.\u001b[39mget(column_name, column_name): column_dtype\n\u001b[1;32m    354\u001b[0m             \u001b[39mfor\u001b[39;00m column_name, column_dtype \u001b[39min\u001b[39;00m dtypes\u001b[39m.\u001b[39mitems()\n\u001b[1;32m    355\u001b[0m         }\n\u001b[1;32m    357\u001b[0m \u001b[39mwith\u001b[39;00m _prepare_file_arg(\n\u001b[1;32m    358\u001b[0m     source, encoding\u001b[39m=\u001b[39mencoding, use_pyarrow\u001b[39m=\u001b[39m\u001b[39mFalse\u001b[39;00m, \u001b[39m*\u001b[39m\u001b[39m*\u001b[39mstorage_options\n\u001b[1;32m    359\u001b[0m ) \u001b[39mas\u001b[39;00m data:\n\u001b[0;32m--> 360\u001b[0m     df \u001b[39m=\u001b[39m pli\u001b[39m.\u001b[39;49mDataFrame\u001b[39m.\u001b[39;49m_read_csv(\n\u001b[1;32m    361\u001b[0m         data,\n\u001b[1;32m    362\u001b[0m         has_header\u001b[39m=\u001b[39;49mhas_header,\n\u001b[1;32m    363\u001b[0m         columns\u001b[39m=\u001b[39;49mcolumns \u001b[39mif\u001b[39;49;00m columns \u001b[39melse\u001b[39;49;00m projection,\n\u001b[1;32m    364\u001b[0m         separator\u001b[39m=\u001b[39;49mseparator,\n\u001b[1;32m    365\u001b[0m         comment_char\u001b[39m=\u001b[39;49mcomment_char,\n\u001b[1;32m    366\u001b[0m         quote_char\u001b[39m=\u001b[39;49mquote_char,\n\u001b[1;32m    367\u001b[0m         skip_rows\u001b[39m=\u001b[39;49mskip_rows,\n\u001b[1;32m    368\u001b[0m         dtypes\u001b[39m=\u001b[39;49mdtypes,\n\u001b[1;32m    369\u001b[0m         null_values\u001b[39m=\u001b[39;49mnull_values,\n\u001b[1;32m    370\u001b[0m         missing_utf8_is_empty_string\u001b[39m=\u001b[39;49mmissing_utf8_is_empty_string,\n\u001b[1;32m    371\u001b[0m         ignore_errors\u001b[39m=\u001b[39;49mignore_errors,\n\u001b[1;32m    372\u001b[0m         try_parse_dates\u001b[39m=\u001b[39;49mtry_parse_dates,\n\u001b[1;32m    373\u001b[0m         n_threads\u001b[39m=\u001b[39;49mn_threads,\n\u001b[1;32m    374\u001b[0m         infer_schema_length\u001b[39m=\u001b[39;49minfer_schema_length,\n\u001b[1;32m    375\u001b[0m         batch_size\u001b[39m=\u001b[39;49mbatch_size,\n\u001b[1;32m    376\u001b[0m         n_rows\u001b[39m=\u001b[39;49mn_rows,\n\u001b[1;32m    377\u001b[0m         encoding\u001b[39m=\u001b[39;49mencoding \u001b[39mif\u001b[39;49;00m encoding \u001b[39m==\u001b[39;49m \u001b[39m\"\u001b[39;49m\u001b[39mutf8-lossy\u001b[39;49m\u001b[39m\"\u001b[39;49m \u001b[39melse\u001b[39;49;00m \u001b[39m\"\u001b[39;49m\u001b[39mutf8\u001b[39;49m\u001b[39m\"\u001b[39;49m,\n\u001b[1;32m    378\u001b[0m         low_memory\u001b[39m=\u001b[39;49mlow_memory,\n\u001b[1;32m    379\u001b[0m         rechunk\u001b[39m=\u001b[39;49mrechunk,\n\u001b[1;32m    380\u001b[0m         skip_rows_after_header\u001b[39m=\u001b[39;49mskip_rows_after_header,\n\u001b[1;32m    381\u001b[0m         row_count_name\u001b[39m=\u001b[39;49mrow_count_name,\n\u001b[1;32m    382\u001b[0m         row_count_offset\u001b[39m=\u001b[39;49mrow_count_offset,\n\u001b[1;32m    383\u001b[0m         sample_size\u001b[39m=\u001b[39;49msample_size,\n\u001b[1;32m    384\u001b[0m         eol_char\u001b[39m=\u001b[39;49meol_char,\n\u001b[1;32m    385\u001b[0m     )\n\u001b[1;32m    387\u001b[0m \u001b[39mif\u001b[39;00m new_columns:\n\u001b[1;32m    388\u001b[0m     \u001b[39mreturn\u001b[39;00m _update_columns(df, new_columns)\n",
            "File \u001b[0;32m/opt/homebrew/anaconda3/envs/datathinking.org/lib/python3.11/site-packages/polars/dataframe/frame.py:784\u001b[0m, in \u001b[0;36mDataFrame._read_csv\u001b[0;34m(cls, source, has_header, columns, separator, comment_char, quote_char, skip_rows, dtypes, null_values, missing_utf8_is_empty_string, ignore_errors, try_parse_dates, n_threads, infer_schema_length, batch_size, n_rows, encoding, low_memory, rechunk, skip_rows_after_header, row_count_name, row_count_offset, sample_size, eol_char)\u001b[0m\n\u001b[1;32m    777\u001b[0m         \u001b[39mraise\u001b[39;00m \u001b[39mValueError\u001b[39;00m(\n\u001b[1;32m    778\u001b[0m             \u001b[39m\"\u001b[39m\u001b[39mcannot use glob patterns and integer based projection as `columns`\u001b[39m\u001b[39m\"\u001b[39m\n\u001b[1;32m    779\u001b[0m             \u001b[39m\"\u001b[39m\u001b[39m argument; Use columns: List[str]\u001b[39m\u001b[39m\"\u001b[39m\n\u001b[1;32m    780\u001b[0m         )\n\u001b[1;32m    782\u001b[0m projection, columns \u001b[39m=\u001b[39m handle_projection_columns(columns)\n\u001b[0;32m--> 784\u001b[0m \u001b[39mself\u001b[39m\u001b[39m.\u001b[39m_df \u001b[39m=\u001b[39m PyDataFrame\u001b[39m.\u001b[39;49mread_csv(\n\u001b[1;32m    785\u001b[0m     source,\n\u001b[1;32m    786\u001b[0m     infer_schema_length,\n\u001b[1;32m    787\u001b[0m     batch_size,\n\u001b[1;32m    788\u001b[0m     has_header,\n\u001b[1;32m    789\u001b[0m     ignore_errors,\n\u001b[1;32m    790\u001b[0m     n_rows,\n\u001b[1;32m    791\u001b[0m     skip_rows,\n\u001b[1;32m    792\u001b[0m     projection,\n\u001b[1;32m    793\u001b[0m     separator,\n\u001b[1;32m    794\u001b[0m     rechunk,\n\u001b[1;32m    795\u001b[0m     columns,\n\u001b[1;32m    796\u001b[0m     encoding,\n\u001b[1;32m    797\u001b[0m     n_threads,\n\u001b[1;32m    798\u001b[0m     path,\n\u001b[1;32m    799\u001b[0m     dtype_list,\n\u001b[1;32m    800\u001b[0m     dtype_slice,\n\u001b[1;32m    801\u001b[0m     low_memory,\n\u001b[1;32m    802\u001b[0m     comment_char,\n\u001b[1;32m    803\u001b[0m     quote_char,\n\u001b[1;32m    804\u001b[0m     processed_null_values,\n\u001b[1;32m    805\u001b[0m     missing_utf8_is_empty_string,\n\u001b[1;32m    806\u001b[0m     try_parse_dates,\n\u001b[1;32m    807\u001b[0m     skip_rows_after_header,\n\u001b[1;32m    808\u001b[0m     _prepare_row_count_args(row_count_name, row_count_offset),\n\u001b[1;32m    809\u001b[0m     sample_size\u001b[39m=\u001b[39;49msample_size,\n\u001b[1;32m    810\u001b[0m     eol_char\u001b[39m=\u001b[39;49meol_char,\n\u001b[1;32m    811\u001b[0m )\n\u001b[1;32m    812\u001b[0m \u001b[39mreturn\u001b[39;00m \u001b[39mself\u001b[39m\n",
            "\u001b[0;31mFileNotFoundError\u001b[0m: No such file or directory: rows.csv"
          ]
        }
      ],
      "source": [
        "import polars as pl\n",
        "\n",
        "# Load the CSV file into a dataframe\n",
        "df = pl.read_csv(\n",
        "    \"rows.csv\", null_values=[\"N/A\", \"NA\", \"UNKNOWN\", \"90054-0807\"], ignore_errors=True\n",
        ")\n",
        "\n",
        "# Print the first few rows of the dataframe\n",
        "print(df.head())\n"
      ]
    },
    {
      "cell_type": "code",
      "execution_count": 3,
      "metadata": {
        "id": "IF1fBs8WJxpf"
      },
      "outputs": [
        {
          "ename": "ModuleNotFoundError",
          "evalue": "No module named 'matplotlib'",
          "output_type": "error",
          "traceback": [
            "\u001b[0;31m---------------------------------------------------------------------------\u001b[0m",
            "\u001b[0;31mModuleNotFoundError\u001b[0m                       Traceback (most recent call last)",
            "Cell \u001b[0;32mIn[3], line 1\u001b[0m\n\u001b[0;32m----> 1\u001b[0m \u001b[39mfrom\u001b[39;00m \u001b[39mmatplotlib\u001b[39;00m \u001b[39mimport\u001b[39;00m pyplot \u001b[39mas\u001b[39;00m plt \n\u001b[1;32m      3\u001b[0m \u001b[39m# Extract the column \"complaint_type\" to create the histogram\u001b[39;00m\n\u001b[1;32m      4\u001b[0m complaint_type \u001b[39m=\u001b[39m df[\u001b[39m'\u001b[39m\u001b[39mcomplaint_type\u001b[39m\u001b[39m'\u001b[39m]\n",
            "\u001b[0;31mModuleNotFoundError\u001b[0m: No module named 'matplotlib'"
          ]
        }
      ],
      "source": [
        "from matplotlib import pyplot as plt\n",
        "\n",
        "# Extract the column \"complaint_type\" to create the histogram\n",
        "complaint_type = df[\"complaint_type\"]\n",
        "\n",
        "# Create a histogram plot using matplotlib\n",
        "plt.hist(complaint_type, bins=50)\n",
        "plt.xticks(rotation=90)\n",
        "plt.xlabel(\"Complaint Type\")\n",
        "plt.ylabel(\"Count\")\n",
        "plt.title(\"Histogram of 311 Calls in NYC\")\n",
        "plt.show()\n"
      ]
    },
    {
      "cell_type": "code",
      "execution_count": null,
      "metadata": {
        "colab": {
          "base_uri": "https://localhost:8080/",
          "height": 244
        },
        "id": "1fUf7pYcEKpO",
        "outputId": "76c69985-4e7d-4a16-9b2a-d41e8236ef57"
      },
      "outputs": [
        {
          "ename": "AttributeError",
          "evalue": "ignored",
          "output_type": "error",
          "traceback": [
            "\u001b[0;31m---------------------------------------------------------------------------\u001b[0m",
            "\u001b[0;31mAttributeError\u001b[0m                            Traceback (most recent call last)",
            "\u001b[0;32m<ipython-input-23-046e22e16b8b>\u001b[0m in \u001b[0;36m<module>\u001b[0;34m\u001b[0m\n\u001b[1;32m      1\u001b[0m \u001b[0;31m# Load the CSV file into a dataframe\u001b[0m\u001b[0;34m\u001b[0m\u001b[0;34m\u001b[0m\u001b[0m\n\u001b[0;32m----> 2\u001b[0;31m df = pl.read_csv('rows.csv', schema=pl.Schema(\n\u001b[0m\u001b[1;32m      3\u001b[0m     [\n\u001b[1;32m      4\u001b[0m         \u001b[0;34m(\u001b[0m\u001b[0;34m\"Created Date\"\u001b[0m\u001b[0;34m,\u001b[0m \u001b[0mpl\u001b[0m\u001b[0;34m.\u001b[0m\u001b[0mDate64\u001b[0m\u001b[0;34m)\u001b[0m\u001b[0;34m,\u001b[0m\u001b[0;34m\u001b[0m\u001b[0;34m\u001b[0m\u001b[0m\n\u001b[1;32m      5\u001b[0m         \u001b[0;34m(\u001b[0m\u001b[0;34m\"Complaint Type\"\u001b[0m\u001b[0;34m,\u001b[0m \u001b[0mpl\u001b[0m\u001b[0;34m.\u001b[0m\u001b[0mUtf8\u001b[0m\u001b[0;34m)\u001b[0m\u001b[0;34m,\u001b[0m\u001b[0;34m\u001b[0m\u001b[0;34m\u001b[0m\u001b[0m\n",
            "\u001b[0;31mAttributeError\u001b[0m: module 'polars' has no attribute 'Schema'"
          ]
        }
      ],
      "source": [
        "# Load the CSV file into a dataframe\n",
        "df = pl.read_csv(\n",
        "    \"rows.csv\",\n",
        "    schema=pl.Schema(\n",
        "        [\n",
        "            (\"Created Date\", pl.Date64),\n",
        "            (\"Complaint Type\", pl.Utf8),\n",
        "            (\"Incident Zip\", pl.Utf8),\n",
        "            (\"City\", pl.Utf8),\n",
        "            (\"Status\", pl.Utf8),\n",
        "            (\"Resolution Description\", pl.Utf8),\n",
        "        ]\n",
        "    ),\n",
        ")\n",
        "\n",
        "# Replace any empty or whitespace strings with None\n",
        "df = df.map(lambda col: col.replace(\"\", None), keep=True)\n"
      ]
    },
    {
      "cell_type": "code",
      "execution_count": null,
      "metadata": {
        "id": "8z6mrD3kuiiX"
      },
      "outputs": [],
      "source": [
        "!pip install --quiet duckdb\n",
        "!pip install --quiet jupysql \n",
        "!pip install --quiet duckdb-engine\n",
        "!pip install --quiet pandas\n",
        "!pip install --quiet matplotlib"
      ]
    },
    {
      "cell_type": "code",
      "execution_count": null,
      "metadata": {
        "id": "iedphv5RxCT_"
      },
      "outputs": [],
      "source": [
        "import duckdb\n",
        "import pandas as pd\n",
        "# No need to import sqlalchemy or duckdb_engine\n",
        "#  JupySQL will use SQLAlchemy to auto-detect the driver needed based on your connection string!\n",
        "\n",
        "# Import jupysql Jupyter extension to create SQL cells\n",
        "%load_ext sql"
      ]
    },
    {
      "cell_type": "code",
      "execution_count": null,
      "metadata": {
        "id": "wxuhNDrfxD-1"
      },
      "outputs": [],
      "source": [
        "%config SqlMagic.autopandas = True\n",
        "%config SqlMagic.feedback = False\n",
        "%config SqlMagic.displaycon = False"
      ]
    },
    {
      "cell_type": "code",
      "execution_count": null,
      "metadata": {
        "id": "_nF0_oxMxFco"
      },
      "outputs": [],
      "source": [
        "%sql duckdb:///:memory:"
      ]
    },
    {
      "cell_type": "code",
      "execution_count": null,
      "metadata": {
        "colab": {
          "base_uri": "https://localhost:8080/",
          "height": 49
        },
        "id": "5pycvKK3xHD5",
        "outputId": "52c2044d-9b8f-4824-ba72-6fcdd9ff893e"
      },
      "outputs": [
        {
          "data": {
            "text/html": [
              "\n",
              "  <div id=\"df-348cbb15-4e33-4a17-90d0-a93c6d0efc10\">\n",
              "    <div class=\"colab-df-container\">\n",
              "      <div>\n",
              "<style scoped>\n",
              "    .dataframe tbody tr th:only-of-type {\n",
              "        vertical-align: middle;\n",
              "    }\n",
              "\n",
              "    .dataframe tbody tr th {\n",
              "        vertical-align: top;\n",
              "    }\n",
              "\n",
              "    .dataframe thead th {\n",
              "        text-align: right;\n",
              "    }\n",
              "</style>\n",
              "<table border=\"1\" class=\"dataframe\">\n",
              "  <thead>\n",
              "    <tr style=\"text-align: right;\">\n",
              "      <th></th>\n",
              "    </tr>\n",
              "  </thead>\n",
              "  <tbody>\n",
              "  </tbody>\n",
              "</table>\n",
              "</div>\n",
              "      <button class=\"colab-df-convert\" onclick=\"convertToInteractive('df-348cbb15-4e33-4a17-90d0-a93c6d0efc10')\"\n",
              "              title=\"Convert this dataframe to an interactive table.\"\n",
              "              style=\"display:none;\">\n",
              "        \n",
              "  <svg xmlns=\"http://www.w3.org/2000/svg\" height=\"24px\"viewBox=\"0 0 24 24\"\n",
              "       width=\"24px\">\n",
              "    <path d=\"M0 0h24v24H0V0z\" fill=\"none\"/>\n",
              "    <path d=\"M18.56 5.44l.94 2.06.94-2.06 2.06-.94-2.06-.94-.94-2.06-.94 2.06-2.06.94zm-11 1L8.5 8.5l.94-2.06 2.06-.94-2.06-.94L8.5 2.5l-.94 2.06-2.06.94zm10 10l.94 2.06.94-2.06 2.06-.94-2.06-.94-.94-2.06-.94 2.06-2.06.94z\"/><path d=\"M17.41 7.96l-1.37-1.37c-.4-.4-.92-.59-1.43-.59-.52 0-1.04.2-1.43.59L10.3 9.45l-7.72 7.72c-.78.78-.78 2.05 0 2.83L4 21.41c.39.39.9.59 1.41.59.51 0 1.02-.2 1.41-.59l7.78-7.78 2.81-2.81c.8-.78.8-2.07 0-2.86zM5.41 20L4 18.59l7.72-7.72 1.47 1.35L5.41 20z\"/>\n",
              "  </svg>\n",
              "      </button>\n",
              "      \n",
              "  <style>\n",
              "    .colab-df-container {\n",
              "      display:flex;\n",
              "      flex-wrap:wrap;\n",
              "      gap: 12px;\n",
              "    }\n",
              "\n",
              "    .colab-df-convert {\n",
              "      background-color: #E8F0FE;\n",
              "      border: none;\n",
              "      border-radius: 50%;\n",
              "      cursor: pointer;\n",
              "      display: none;\n",
              "      fill: #1967D2;\n",
              "      height: 32px;\n",
              "      padding: 0 0 0 0;\n",
              "      width: 32px;\n",
              "    }\n",
              "\n",
              "    .colab-df-convert:hover {\n",
              "      background-color: #E2EBFA;\n",
              "      box-shadow: 0px 1px 2px rgba(60, 64, 67, 0.3), 0px 1px 3px 1px rgba(60, 64, 67, 0.15);\n",
              "      fill: #174EA6;\n",
              "    }\n",
              "\n",
              "    [theme=dark] .colab-df-convert {\n",
              "      background-color: #3B4455;\n",
              "      fill: #D2E3FC;\n",
              "    }\n",
              "\n",
              "    [theme=dark] .colab-df-convert:hover {\n",
              "      background-color: #434B5C;\n",
              "      box-shadow: 0px 1px 3px 1px rgba(0, 0, 0, 0.15);\n",
              "      filter: drop-shadow(0px 1px 2px rgba(0, 0, 0, 0.3));\n",
              "      fill: #FFFFFF;\n",
              "    }\n",
              "  </style>\n",
              "\n",
              "      <script>\n",
              "        const buttonEl =\n",
              "          document.querySelector('#df-348cbb15-4e33-4a17-90d0-a93c6d0efc10 button.colab-df-convert');\n",
              "        buttonEl.style.display =\n",
              "          google.colab.kernel.accessAllowed ? 'block' : 'none';\n",
              "\n",
              "        async function convertToInteractive(key) {\n",
              "          const element = document.querySelector('#df-348cbb15-4e33-4a17-90d0-a93c6d0efc10');\n",
              "          const dataTable =\n",
              "            await google.colab.kernel.invokeFunction('convertToInteractive',\n",
              "                                                     [key], {});\n",
              "          if (!dataTable) return;\n",
              "\n",
              "          const docLinkHtml = 'Like what you see? Visit the ' +\n",
              "            '<a target=\"_blank\" href=https://colab.research.google.com/notebooks/data_table.ipynb>data table notebook</a>'\n",
              "            + ' to learn more about interactive tables.';\n",
              "          element.innerHTML = '';\n",
              "          dataTable['output_type'] = 'display_data';\n",
              "          await google.colab.output.renderOutput(dataTable, element);\n",
              "          const docLink = document.createElement('div');\n",
              "          docLink.innerHTML = docLinkHtml;\n",
              "          element.appendChild(docLink);\n",
              "        }\n",
              "      </script>\n",
              "    </div>\n",
              "  </div>\n",
              "  "
            ],
            "text/plain": [
              "Empty DataFrame\n",
              "Columns: []\n",
              "Index: []"
            ]
          },
          "execution_count": 6,
          "metadata": {},
          "output_type": "execute_result"
        }
      ],
      "source": [
        "%%sql\n",
        "INSTALL httpfs;\n",
        "LOAD httpfs;"
      ]
    },
    {
      "cell_type": "markdown",
      "metadata": {
        "id": "tVJab0d_FZ9k"
      },
      "source": [
        "Downloaded - https://d37ci6vzurychx.cloudfront.net/trip-data/yellow_tripdata_2022-11.parquet\n",
        "From https://www.nyc.gov/site/tlc/about/tlc-trip-record-data.page "
      ]
    },
    {
      "cell_type": "code",
      "execution_count": null,
      "metadata": {
        "colab": {
          "base_uri": "https://localhost:8080/"
        },
        "id": "cKjr_TQXxHZp",
        "outputId": "51cfeebe-e8c0-4ac4-eab7-709181f50fc4"
      },
      "outputs": [
        {
          "name": "stdout",
          "output_type": "stream",
          "text": [
            "Skipping execution...\n"
          ]
        }
      ],
      "source": [
        "%%sql --save short-trips --no-execute\n",
        "SELECT *\n",
        "FROM 's3://payless.health/yellow_tripdata_2022-11.parquet'\n",
        "WHERE trip_distance < 6.3"
      ]
    },
    {
      "cell_type": "code",
      "execution_count": null,
      "metadata": {
        "colab": {
          "base_uri": "https://localhost:8080/",
          "height": 314
        },
        "id": "hQgHtW2HxNXn",
        "outputId": "96e8063e-e0ee-4f79-b616-d4838fa97df0"
      },
      "outputs": [
        {
          "data": {
            "text/plain": [
              "<AxesSubplot:title={'center':\"'trip_distance' from 'short-trips'\"}, xlabel='trip_distance', ylabel='Count'>"
            ]
          },
          "execution_count": 8,
          "metadata": {},
          "output_type": "execute_result"
        },
        {
          "data": {
            "image/png": "[encoded data removed]",
            "text/plain": [
              "<Figure size 432x288 with 1 Axes>"
            ]
          },
          "metadata": {
            "needs_background": "light"
          },
          "output_type": "display_data"
        }
      ],
      "source": [
        "%sqlplot histogram --table short-trips --column trip_distance --bins 10 --with short-trips"
      ]
    },
    {
      "cell_type": "markdown",
      "metadata": {
        "id": "fBSB5Vc3GVCB"
      },
      "source": [
        "Used a backup! Uploaded the csv amazon s3: s3://payless.health/311_Service_Requests_from_2010_to_Present.csv"
      ]
    },
    {
      "cell_type": "code",
      "execution_count": null,
      "metadata": {
        "colab": {
          "base_uri": "https://localhost:8080/"
        },
        "id": "PJyYpMmNGUyB",
        "outputId": "6219d88f-bce6-4095-b20e-dcd196c00311"
      },
      "outputs": [
        {
          "name": "stdout",
          "output_type": "stream",
          "text": [
            "Skipping execution...\n"
          ]
        }
      ],
      "source": [
        "%%sql --save short-trips --no-execute\n",
        "SELECT *\n",
        "FROM 's3://payless.health/311_Service_Requests_from_2010_to_Present.csv'\n",
        "WHERE Latitude < 40.8"
      ]
    },
    {
      "cell_type": "code",
      "execution_count": null,
      "metadata": {
        "colab": {
          "base_uri": "https://localhost:8080/",
          "height": 69,
          "referenced_widgets": [
            "dff02adea96a47e19181e82e4bf5f05c",
            "9a4c6dc071e34d56826bcfb9b835248e",
            "bf5a9b849232483e9c4ece9323719e31"
          ]
        },
        "id": "QAjGrPrKGxiD",
        "outputId": "1e91b8b4-117e-429d-e728-1b9f8b359bf0"
      },
      "outputs": [
        {
          "data": {
            "application/vnd.jupyter.widget-view+json": {
              "model_id": "dff02adea96a47e19181e82e4bf5f05c",
              "version_major": 2,
              "version_minor": 0
            },
            "text/plain": [
              "FloatProgress(value=0.0, layout=Layout(width='100%'), style=ProgressStyle(bar_color='black'))"
            ]
          },
          "metadata": {},
          "output_type": "display_data"
        }
      ],
      "source": [
        "%sqlplot histogram --table short-trips --column Latitude --bins 10 --with short-trips"
      ]
    },
    {
      "cell_type": "code",
      "execution_count": null,
      "metadata": {
        "colab": {
          "base_uri": "https://localhost:8080/"
        },
        "id": "72CqAhzTxNw-",
        "outputId": "c0b51004-900e-42e3-baff-afa773fda633"
      },
      "outputs": [
        {
          "name": "stdout",
          "output_type": "stream",
          "text": [
            "Skipping execution...\n"
          ]
        }
      ],
      "source": [
        "%%sql --save no-outliers --no-execute\n",
        "SELECT *\n",
        "FROM 's3://payless.health/yellow_tripdata_2022-11.parquet'\n",
        "WHERE Latitude < 40.8"
      ]
    },
    {
      "cell_type": "code",
      "execution_count": null,
      "metadata": {
        "colab": {
          "base_uri": "https://localhost:8080/",
          "height": 300
        },
        "id": "HZhOzmCsxPlD",
        "outputId": "46ab48f1-865a-4356-e8b8-697652253bb0"
      },
      "outputs": [
        {
          "data": {
            "text/plain": [
              "<AxesSubplot:title={'center':\"'trip_distance' from 'no-outliers'\"}, ylabel='trip_distance'>"
            ]
          },
          "execution_count": 10,
          "metadata": {},
          "output_type": "execute_result"
        },
        {
          "data": {
            "image/png": "[encoded data removed]",
            "text/plain": [
              "<Figure size 432x288 with 1 Axes>"
            ]
          },
          "metadata": {
            "needs_background": "light"
          },
          "output_type": "display_data"
        }
      ],
      "source": [
        "%sqlplot boxplot --table no-outliers --column trip_distance --with no-outliers"
      ]
    },
    {
      "cell_type": "code",
      "execution_count": null,
      "metadata": {
        "colab": {
          "base_uri": "https://localhost:8080/",
          "height": 300
        },
        "id": "IWC-0VxyxRbD",
        "outputId": "2b5d4ea5-2fcc-4614-e71b-39e695294ed7"
      },
      "outputs": [
        {
          "data": {
            "text/plain": [
              "<AxesSubplot:title={'center':\"'trip_distance' from 's3://payless.health/yellow_tripdata_2022-11.parquet'\"}, ylabel='trip_distance'>"
            ]
          },
          "execution_count": 11,
          "metadata": {},
          "output_type": "execute_result"
        },
        {
          "data": {
            "image/png": "[encoded data removed]",
            "text/plain": [
              "<Figure size 432x288 with 1 Axes>"
            ]
          },
          "metadata": {
            "needs_background": "light"
          },
          "output_type": "display_data"
        }
      ],
      "source": [
        "%sqlplot boxplot --table s3://payless.health/yellow_tripdata_2022-11.parquet --column trip_distance"
      ]
    },
    {
      "cell_type": "code",
      "execution_count": null,
      "metadata": {
        "id": "BaDhCQtoxVYt"
      },
      "outputs": [],
      "source": [
        "N_BINS = 20\n"
      ]
    },
    {
      "cell_type": "code",
      "execution_count": null,
      "metadata": {
        "colab": {
          "base_uri": "https://localhost:8080/",
          "height": 137
        },
        "id": "SnjKA6l-xZAz",
        "outputId": "876423cb-5691-4424-9f33-fb15058f9838"
      },
      "outputs": [
        {
          "name": "stderr",
          "output_type": "stream",
          "text": [
            "/usr/local/lib/python3.9/dist-packages/sql/command.py:108: FutureWarning: Variable substitution with $var and {var} has been deprecated and will be removed in a future version. Use {{var}} instead. To remove this, see: https://jupysql.ploomber.io/en/latest/howto.html#ignore-deprecation-warnings\n",
            "  warnings.warn(msg, FutureWarning)\n"
          ]
        },
        {
          "data": {
            "text/html": [
              "\n",
              "  <div id=\"df-4e2e8135-4487-409b-87b0-52591bd44973\">\n",
              "    <div class=\"colab-df-container\">\n",
              "      <div>\n",
              "<style scoped>\n",
              "    .dataframe tbody tr th:only-of-type {\n",
              "        vertical-align: middle;\n",
              "    }\n",
              "\n",
              "    .dataframe tbody tr th {\n",
              "        vertical-align: top;\n",
              "    }\n",
              "\n",
              "    .dataframe thead th {\n",
              "        text-align: right;\n",
              "    }\n",
              "</style>\n",
              "<table border=\"1\" class=\"dataframe\">\n",
              "  <thead>\n",
              "    <tr style=\"text-align: right;\">\n",
              "      <th></th>\n",
              "      <th>((max(trip_distance) - min(trip_distance)) / 20)</th>\n",
              "    </tr>\n",
              "  </thead>\n",
              "  <tbody>\n",
              "    <tr>\n",
              "      <th>0</th>\n",
              "      <td>15287.818</td>\n",
              "    </tr>\n",
              "  </tbody>\n",
              "</table>\n",
              "</div>\n",
              "      <button class=\"colab-df-convert\" onclick=\"convertToInteractive('df-4e2e8135-4487-409b-87b0-52591bd44973')\"\n",
              "              title=\"Convert this dataframe to an interactive table.\"\n",
              "              style=\"display:none;\">\n",
              "        \n",
              "  <svg xmlns=\"http://www.w3.org/2000/svg\" height=\"24px\"viewBox=\"0 0 24 24\"\n",
              "       width=\"24px\">\n",
              "    <path d=\"M0 0h24v24H0V0z\" fill=\"none\"/>\n",
              "    <path d=\"M18.56 5.44l.94 2.06.94-2.06 2.06-.94-2.06-.94-.94-2.06-.94 2.06-2.06.94zm-11 1L8.5 8.5l.94-2.06 2.06-.94-2.06-.94L8.5 2.5l-.94 2.06-2.06.94zm10 10l.94 2.06.94-2.06 2.06-.94-2.06-.94-.94-2.06-.94 2.06-2.06.94z\"/><path d=\"M17.41 7.96l-1.37-1.37c-.4-.4-.92-.59-1.43-.59-.52 0-1.04.2-1.43.59L10.3 9.45l-7.72 7.72c-.78.78-.78 2.05 0 2.83L4 21.41c.39.39.9.59 1.41.59.51 0 1.02-.2 1.41-.59l7.78-7.78 2.81-2.81c.8-.78.8-2.07 0-2.86zM5.41 20L4 18.59l7.72-7.72 1.47 1.35L5.41 20z\"/>\n",
              "  </svg>\n",
              "      </button>\n",
              "      \n",
              "  <style>\n",
              "    .colab-df-container {\n",
              "      display:flex;\n",
              "      flex-wrap:wrap;\n",
              "      gap: 12px;\n",
              "    }\n",
              "\n",
              "    .colab-df-convert {\n",
              "      background-color: #E8F0FE;\n",
              "      border: none;\n",
              "      border-radius: 50%;\n",
              "      cursor: pointer;\n",
              "      display: none;\n",
              "      fill: #1967D2;\n",
              "      height: 32px;\n",
              "      padding: 0 0 0 0;\n",
              "      width: 32px;\n",
              "    }\n",
              "\n",
              "    .colab-df-convert:hover {\n",
              "      background-color: #E2EBFA;\n",
              "      box-shadow: 0px 1px 2px rgba(60, 64, 67, 0.3), 0px 1px 3px 1px rgba(60, 64, 67, 0.15);\n",
              "      fill: #174EA6;\n",
              "    }\n",
              "\n",
              "    [theme=dark] .colab-df-convert {\n",
              "      background-color: #3B4455;\n",
              "      fill: #D2E3FC;\n",
              "    }\n",
              "\n",
              "    [theme=dark] .colab-df-convert:hover {\n",
              "      background-color: #434B5C;\n",
              "      box-shadow: 0px 1px 3px 1px rgba(0, 0, 0, 0.15);\n",
              "      filter: drop-shadow(0px 1px 2px rgba(0, 0, 0, 0.3));\n",
              "      fill: #FFFFFF;\n",
              "    }\n",
              "  </style>\n",
              "\n",
              "      <script>\n",
              "        const buttonEl =\n",
              "          document.querySelector('#df-4e2e8135-4487-409b-87b0-52591bd44973 button.colab-df-convert');\n",
              "        buttonEl.style.display =\n",
              "          google.colab.kernel.accessAllowed ? 'block' : 'none';\n",
              "\n",
              "        async function convertToInteractive(key) {\n",
              "          const element = document.querySelector('#df-4e2e8135-4487-409b-87b0-52591bd44973');\n",
              "          const dataTable =\n",
              "            await google.colab.kernel.invokeFunction('convertToInteractive',\n",
              "                                                     [key], {});\n",
              "          if (!dataTable) return;\n",
              "\n",
              "          const docLinkHtml = 'Like what you see? Visit the ' +\n",
              "            '<a target=\"_blank\" href=https://colab.research.google.com/notebooks/data_table.ipynb>data table notebook</a>'\n",
              "            + ' to learn more about interactive tables.';\n",
              "          element.innerHTML = '';\n",
              "          dataTable['output_type'] = 'display_data';\n",
              "          await google.colab.output.renderOutput(dataTable, element);\n",
              "          const docLink = document.createElement('div');\n",
              "          docLink.innerHTML = docLinkHtml;\n",
              "          element.appendChild(docLink);\n",
              "        }\n",
              "      </script>\n",
              "    </div>\n",
              "  </div>\n",
              "  "
            ],
            "text/plain": [
              "   ((max(trip_distance) - min(trip_distance)) / 20)\n",
              "0                                         15287.818"
            ]
          },
          "execution_count": 13,
          "metadata": {},
          "output_type": "execute_result"
        }
      ],
      "source": [
        "%%sql\n",
        "SELECT (MAX(trip_distance) - MIN(trip_distance)) / $N_BINS\n",
        "FROM 's3://payless.health/yellow_tripdata_2022-11.parquet'"
      ]
    },
    {
      "cell_type": "code",
      "execution_count": null,
      "metadata": {
        "colab": {
          "base_uri": "https://localhost:8080/"
        },
        "id": "8K22d3auxc7n",
        "outputId": "ea5f56a1-5427-4d84-d0d8-8e3c902516fa"
      },
      "outputs": [
        {
          "name": "stdout",
          "output_type": "stream",
          "text": [
            "(duckdb.BinderException) Binder Error: Referenced column \"BIN_SIZE\" not found in FROM clause!\n",
            "Candidate bindings: \"s3://payless.health/yellow_tripdata_2022-11.parquet.extra\"\n",
            "LINE 2:   FLOOR(\"trip_distance\"/BIN_SIZE)*BIN_SIZE,\n",
            "                                ^\n",
            "[SQL: SELECT\n",
            "  FLOOR(\"trip_distance\"/BIN_SIZE)*BIN_SIZE,\n",
            "  COUNT(*) as count\n",
            "FROM \"s3://payless.health/yellow_tripdata_2022-11.parquet\"\n",
            "GROUP BY 1\n",
            "ORDER BY 1;]\n",
            "(Background on this error at: https://sqlalche.me/e/14/f405)\n"
          ]
        }
      ],
      "source": [
        "%%sql\n",
        "SELECT\n",
        "  FLOOR(\"trip_distance\"/BIN_SIZE)* $BIN_SIZE,\n",
        "  COUNT(*) as count\n",
        "FROM \"s3://payless.health/yellow_tripdata_2022-11.parquet\"\n",
        "GROUP BY 1\n",
        "ORDER BY 1;"
      ]
    },
    {
      "cell_type": "code",
      "execution_count": null,
      "metadata": {
        "id": "icz1flpOxisD"
      },
      "outputs": [],
      "source": [
        "%sqlplot histogram --table no-outliers --column trip_distance --with no-outliers"
      ]
    }
  ],
  "metadata": {
    "colab": {
      "provenance": []
    },
    "kernelspec": {
      "display_name": "datathinking.org",
      "language": "python",
      "name": "python3"
    },
    "language_info": {
      "codemirror_mode": {
        "name": "ipython",
        "version": 3
      },
      "file_extension": ".py",
      "mimetype": "text/x-python",
      "name": "python",
      "nbconvert_exporter": "python",
      "pygments_lexer": "ipython3",
      "version": "3.11.0"
    },
    "vscode": {
      "interpreter": {
        "hash": "8bffd2ca0be0abe749b837d6d2a17364947d255b4b9fbee4b61d536744981e2a"
      }
    },
    "widgets": {
      "application/vnd.jupyter.widget-state+json": {
        "9a4c6dc071e34d56826bcfb9b835248e": {
          "model_module": "@jupyter-widgets/base",
          "model_module_version": "1.2.0",
          "model_name": "LayoutModel",
          "state": {
            "_model_module": "@jupyter-widgets/base",
            "_model_module_version": "1.2.0",
            "_model_name": "LayoutModel",
            "_view_count": null,
            "_view_module": "@jupyter-widgets/base",
            "_view_module_version": "1.2.0",
            "_view_name": "LayoutView",
            "align_content": null,
            "align_items": null,
            "align_self": null,
            "border": null,
            "bottom": null,
            "display": null,
            "flex": null,
            "flex_flow": null,
            "grid_area": null,
            "grid_auto_columns": null,
            "grid_auto_flow": null,
            "grid_auto_rows": null,
            "grid_column": null,
            "grid_gap": null,
            "grid_row": null,
            "grid_template_areas": null,
            "grid_template_columns": null,
            "grid_template_rows": null,
            "height": null,
            "justify_content": null,
            "justify_items": null,
            "left": null,
            "margin": null,
            "max_height": null,
            "max_width": null,
            "min_height": null,
            "min_width": null,
            "object_fit": null,
            "object_position": null,
            "order": null,
            "overflow": null,
            "overflow_x": null,
            "overflow_y": null,
            "padding": null,
            "right": null,
            "top": null,
            "visibility": null,
            "width": "100%"
          }
        },
        "bf5a9b849232483e9c4ece9323719e31": {
          "model_module": "@jupyter-widgets/controls",
          "model_module_version": "1.5.0",
          "model_name": "ProgressStyleModel",
          "state": {
            "_model_module": "@jupyter-widgets/controls",
            "_model_module_version": "1.5.0",
            "_model_name": "ProgressStyleModel",
            "_view_count": null,
            "_view_module": "@jupyter-widgets/base",
            "_view_module_version": "1.2.0",
            "_view_name": "StyleView",
            "bar_color": "black",
            "description_width": ""
          }
        },
        "dff02adea96a47e19181e82e4bf5f05c": {
          "model_module": "@jupyter-widgets/controls",
          "model_module_version": "1.5.0",
          "model_name": "FloatProgressModel",
          "state": {
            "_dom_classes": [],
            "_model_module": "@jupyter-widgets/controls",
            "_model_module_version": "1.5.0",
            "_model_name": "FloatProgressModel",
            "_view_count": null,
            "_view_module": "@jupyter-widgets/controls",
            "_view_module_version": "1.5.0",
            "_view_name": "ProgressView",
            "bar_style": "",
            "description": "",
            "description_tooltip": null,
            "layout": "IPY_MODEL_9a4c6dc071e34d56826bcfb9b835248e",
            "max": 100,
            "min": 0,
            "orientation": "horizontal",
            "style": "IPY_MODEL_bf5a9b849232483e9c4ece9323719e31",
            "value": 73
          }
        }
      }
    }
  },
  "nbformat": 4,
  "nbformat_minor": 0
}
